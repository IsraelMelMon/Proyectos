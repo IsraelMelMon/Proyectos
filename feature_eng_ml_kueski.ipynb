{
  "nbformat": 4,
  "nbformat_minor": 0,
  "metadata": {
    "kernelspec": {
      "display_name": "Python 3",
      "language": "python",
      "name": "python3"
    },
    "language_info": {
      "codemirror_mode": {
        "name": "ipython",
        "version": 3
      },
      "file_extension": ".py",
      "mimetype": "text/x-python",
      "name": "python",
      "nbconvert_exporter": "python",
      "pygments_lexer": "ipython3",
      "version": "3.8.5"
    },
    "colab": {
      "name": "feature_eng_ml_kueski.ipynb",
      "provenance": [],
      "collapsed_sections": [],
      "include_colab_link": true
    }
  },
  "cells": [
    {
      "cell_type": "markdown",
      "metadata": {
        "id": "view-in-github",
        "colab_type": "text"
      },
      "source": [
        "<a href=\"https://colab.research.google.com/github/IsraelMelMon/Proyectos/blob/master/feature_eng_ml_kueski.ipynb\" target=\"_parent\"><img src=\"https://colab.research.google.com/assets/colab-badge.svg\" alt=\"Open In Colab\"/></a>"
      ]
    },
    {
      "cell_type": "markdown",
      "metadata": {
        "id": "vevjE38YKQXb"
      },
      "source": [
        "In this notebook we compute two features for the movielens ratings dataset. Each row of the dataset consists of the rating a user gave to certain movie. \n",
        "\n",
        "These features are roughly defined as follows:\n",
        "\n",
        "**nb_previous_ratings:** number of ratings a user has given, prior to the current rating. \n",
        "\n",
        "**avg_ratings_previous:** average of the ratings a user has given, prior to the current rating.\n",
        "\n",
        "We have the following problem: the ratings dataset is big (20M rows), and the feature `avg_ratings_previous` takes just too long to be computed for all the rows of the dataset (at least the way it's implemented). \n",
        "\n",
        "We have truncated the dataset so that this code runs quickly. "
      ]
    },
    {
      "cell_type": "markdown",
      "metadata": {
        "id": "2QUOnr2pKQXi"
      },
      "source": [
        "We begin by extracting and truncating the dataset"
      ]
    },
    {
      "cell_type": "code",
      "metadata": {
        "colab": {
          "base_uri": "https://localhost:8080/"
        },
        "id": "4gPhuZ7qKQXj",
        "outputId": "faec4b69-02a6-4db8-f5e0-25d3bc1ae03f"
      },
      "source": [
        "import pandas as pd\n",
        "from google.colab import drive\n",
        "drive.mount('/content/drive')\n"
      ],
      "execution_count": null,
      "outputs": [
        {
          "output_type": "stream",
          "text": [
            "Mounted at /content/drive\n"
          ],
          "name": "stdout"
        }
      ]
    },
    {
      "cell_type": "code",
      "metadata": {
        "id": "bljHMs1TKQXj"
      },
      "source": [
        "df_ratings = pd.read_csv(\"drive/MyDrive/rating.csv\")\n"
      ],
      "execution_count": null,
      "outputs": []
    },
    {
      "cell_type": "code",
      "metadata": {
        "colab": {
          "base_uri": "https://localhost:8080/",
          "height": 419
        },
        "id": "ghveuxPjKQXk",
        "outputId": "acb1674b-2599-4bdd-8651-138fc3a2c41d"
      },
      "source": [
        "df_ratings"
      ],
      "execution_count": null,
      "outputs": [
        {
          "output_type": "execute_result",
          "data": {
            "text/html": [
              "<div>\n",
              "<style scoped>\n",
              "    .dataframe tbody tr th:only-of-type {\n",
              "        vertical-align: middle;\n",
              "    }\n",
              "\n",
              "    .dataframe tbody tr th {\n",
              "        vertical-align: top;\n",
              "    }\n",
              "\n",
              "    .dataframe thead th {\n",
              "        text-align: right;\n",
              "    }\n",
              "</style>\n",
              "<table border=\"1\" class=\"dataframe\">\n",
              "  <thead>\n",
              "    <tr style=\"text-align: right;\">\n",
              "      <th></th>\n",
              "      <th>userId</th>\n",
              "      <th>movieId</th>\n",
              "      <th>rating</th>\n",
              "      <th>timestamp</th>\n",
              "    </tr>\n",
              "  </thead>\n",
              "  <tbody>\n",
              "    <tr>\n",
              "      <th>0</th>\n",
              "      <td>1</td>\n",
              "      <td>2</td>\n",
              "      <td>3.5</td>\n",
              "      <td>2005-04-02 23:53:47</td>\n",
              "    </tr>\n",
              "    <tr>\n",
              "      <th>1</th>\n",
              "      <td>1</td>\n",
              "      <td>29</td>\n",
              "      <td>3.5</td>\n",
              "      <td>2005-04-02 23:31:16</td>\n",
              "    </tr>\n",
              "    <tr>\n",
              "      <th>2</th>\n",
              "      <td>1</td>\n",
              "      <td>32</td>\n",
              "      <td>3.5</td>\n",
              "      <td>2005-04-02 23:33:39</td>\n",
              "    </tr>\n",
              "    <tr>\n",
              "      <th>3</th>\n",
              "      <td>1</td>\n",
              "      <td>47</td>\n",
              "      <td>3.5</td>\n",
              "      <td>2005-04-02 23:32:07</td>\n",
              "    </tr>\n",
              "    <tr>\n",
              "      <th>4</th>\n",
              "      <td>1</td>\n",
              "      <td>50</td>\n",
              "      <td>3.5</td>\n",
              "      <td>2005-04-02 23:29:40</td>\n",
              "    </tr>\n",
              "    <tr>\n",
              "      <th>...</th>\n",
              "      <td>...</td>\n",
              "      <td>...</td>\n",
              "      <td>...</td>\n",
              "      <td>...</td>\n",
              "    </tr>\n",
              "    <tr>\n",
              "      <th>20000258</th>\n",
              "      <td>138493</td>\n",
              "      <td>68954</td>\n",
              "      <td>4.5</td>\n",
              "      <td>2009-11-13 15:42:00</td>\n",
              "    </tr>\n",
              "    <tr>\n",
              "      <th>20000259</th>\n",
              "      <td>138493</td>\n",
              "      <td>69526</td>\n",
              "      <td>4.5</td>\n",
              "      <td>2009-12-03 18:31:48</td>\n",
              "    </tr>\n",
              "    <tr>\n",
              "      <th>20000260</th>\n",
              "      <td>138493</td>\n",
              "      <td>69644</td>\n",
              "      <td>3.0</td>\n",
              "      <td>2009-12-07 18:10:57</td>\n",
              "    </tr>\n",
              "    <tr>\n",
              "      <th>20000261</th>\n",
              "      <td>138493</td>\n",
              "      <td>70286</td>\n",
              "      <td>5.0</td>\n",
              "      <td>2009-11-13 15:42:24</td>\n",
              "    </tr>\n",
              "    <tr>\n",
              "      <th>20000262</th>\n",
              "      <td>138493</td>\n",
              "      <td>71619</td>\n",
              "      <td>2.5</td>\n",
              "      <td>2009-10-17 20:25:36</td>\n",
              "    </tr>\n",
              "  </tbody>\n",
              "</table>\n",
              "<p>20000263 rows × 4 columns</p>\n",
              "</div>"
            ],
            "text/plain": [
              "          userId  movieId  rating            timestamp\n",
              "0              1        2     3.5  2005-04-02 23:53:47\n",
              "1              1       29     3.5  2005-04-02 23:31:16\n",
              "2              1       32     3.5  2005-04-02 23:33:39\n",
              "3              1       47     3.5  2005-04-02 23:32:07\n",
              "4              1       50     3.5  2005-04-02 23:29:40\n",
              "...          ...      ...     ...                  ...\n",
              "20000258  138493    68954     4.5  2009-11-13 15:42:00\n",
              "20000259  138493    69526     4.5  2009-12-03 18:31:48\n",
              "20000260  138493    69644     3.0  2009-12-07 18:10:57\n",
              "20000261  138493    70286     5.0  2009-11-13 15:42:24\n",
              "20000262  138493    71619     2.5  2009-10-17 20:25:36\n",
              "\n",
              "[20000263 rows x 4 columns]"
            ]
          },
          "metadata": {
            "tags": []
          },
          "execution_count": 3
        }
      ]
    },
    {
      "cell_type": "code",
      "metadata": {
        "colab": {
          "base_uri": "https://localhost:8080/",
          "height": 419
        },
        "id": "ksWXaiVqKQXl",
        "outputId": "4ae64369-5f18-44b6-fb5b-5aec82af51f4"
      },
      "source": [
        "# This will be the response variable of the model. Not used in this notebook, just added to give context.\n",
        "df_ratings[\"rating_binary\"] = df_ratings.rating.apply(lambda x: 1 if x >= 4 else 0)\n",
        "df_ratings"
      ],
      "execution_count": null,
      "outputs": [
        {
          "output_type": "execute_result",
          "data": {
            "text/html": [
              "<div>\n",
              "<style scoped>\n",
              "    .dataframe tbody tr th:only-of-type {\n",
              "        vertical-align: middle;\n",
              "    }\n",
              "\n",
              "    .dataframe tbody tr th {\n",
              "        vertical-align: top;\n",
              "    }\n",
              "\n",
              "    .dataframe thead th {\n",
              "        text-align: right;\n",
              "    }\n",
              "</style>\n",
              "<table border=\"1\" class=\"dataframe\">\n",
              "  <thead>\n",
              "    <tr style=\"text-align: right;\">\n",
              "      <th></th>\n",
              "      <th>userId</th>\n",
              "      <th>movieId</th>\n",
              "      <th>rating</th>\n",
              "      <th>timestamp</th>\n",
              "      <th>rating_binary</th>\n",
              "    </tr>\n",
              "  </thead>\n",
              "  <tbody>\n",
              "    <tr>\n",
              "      <th>0</th>\n",
              "      <td>1</td>\n",
              "      <td>2</td>\n",
              "      <td>3.5</td>\n",
              "      <td>2005-04-02 23:53:47</td>\n",
              "      <td>0</td>\n",
              "    </tr>\n",
              "    <tr>\n",
              "      <th>1</th>\n",
              "      <td>1</td>\n",
              "      <td>29</td>\n",
              "      <td>3.5</td>\n",
              "      <td>2005-04-02 23:31:16</td>\n",
              "      <td>0</td>\n",
              "    </tr>\n",
              "    <tr>\n",
              "      <th>2</th>\n",
              "      <td>1</td>\n",
              "      <td>32</td>\n",
              "      <td>3.5</td>\n",
              "      <td>2005-04-02 23:33:39</td>\n",
              "      <td>0</td>\n",
              "    </tr>\n",
              "    <tr>\n",
              "      <th>3</th>\n",
              "      <td>1</td>\n",
              "      <td>47</td>\n",
              "      <td>3.5</td>\n",
              "      <td>2005-04-02 23:32:07</td>\n",
              "      <td>0</td>\n",
              "    </tr>\n",
              "    <tr>\n",
              "      <th>4</th>\n",
              "      <td>1</td>\n",
              "      <td>50</td>\n",
              "      <td>3.5</td>\n",
              "      <td>2005-04-02 23:29:40</td>\n",
              "      <td>0</td>\n",
              "    </tr>\n",
              "    <tr>\n",
              "      <th>...</th>\n",
              "      <td>...</td>\n",
              "      <td>...</td>\n",
              "      <td>...</td>\n",
              "      <td>...</td>\n",
              "      <td>...</td>\n",
              "    </tr>\n",
              "    <tr>\n",
              "      <th>20000258</th>\n",
              "      <td>138493</td>\n",
              "      <td>68954</td>\n",
              "      <td>4.5</td>\n",
              "      <td>2009-11-13 15:42:00</td>\n",
              "      <td>1</td>\n",
              "    </tr>\n",
              "    <tr>\n",
              "      <th>20000259</th>\n",
              "      <td>138493</td>\n",
              "      <td>69526</td>\n",
              "      <td>4.5</td>\n",
              "      <td>2009-12-03 18:31:48</td>\n",
              "      <td>1</td>\n",
              "    </tr>\n",
              "    <tr>\n",
              "      <th>20000260</th>\n",
              "      <td>138493</td>\n",
              "      <td>69644</td>\n",
              "      <td>3.0</td>\n",
              "      <td>2009-12-07 18:10:57</td>\n",
              "      <td>0</td>\n",
              "    </tr>\n",
              "    <tr>\n",
              "      <th>20000261</th>\n",
              "      <td>138493</td>\n",
              "      <td>70286</td>\n",
              "      <td>5.0</td>\n",
              "      <td>2009-11-13 15:42:24</td>\n",
              "      <td>1</td>\n",
              "    </tr>\n",
              "    <tr>\n",
              "      <th>20000262</th>\n",
              "      <td>138493</td>\n",
              "      <td>71619</td>\n",
              "      <td>2.5</td>\n",
              "      <td>2009-10-17 20:25:36</td>\n",
              "      <td>0</td>\n",
              "    </tr>\n",
              "  </tbody>\n",
              "</table>\n",
              "<p>20000263 rows × 5 columns</p>\n",
              "</div>"
            ],
            "text/plain": [
              "          userId  movieId  rating            timestamp  rating_binary\n",
              "0              1        2     3.5  2005-04-02 23:53:47              0\n",
              "1              1       29     3.5  2005-04-02 23:31:16              0\n",
              "2              1       32     3.5  2005-04-02 23:33:39              0\n",
              "3              1       47     3.5  2005-04-02 23:32:07              0\n",
              "4              1       50     3.5  2005-04-02 23:29:40              0\n",
              "...          ...      ...     ...                  ...            ...\n",
              "20000258  138493    68954     4.5  2009-11-13 15:42:00              1\n",
              "20000259  138493    69526     4.5  2009-12-03 18:31:48              1\n",
              "20000260  138493    69644     3.0  2009-12-07 18:10:57              0\n",
              "20000261  138493    70286     5.0  2009-11-13 15:42:24              1\n",
              "20000262  138493    71619     2.5  2009-10-17 20:25:36              0\n",
              "\n",
              "[20000263 rows x 5 columns]"
            ]
          },
          "metadata": {
            "tags": []
          },
          "execution_count": 4
        }
      ]
    },
    {
      "cell_type": "code",
      "metadata": {
        "id": "BX6gIty7KQXl"
      },
      "source": [
        "# Here we truncate the dataset\n",
        "df_ratings_truncated = df_ratings.loc[0:100000, :]"
      ],
      "execution_count": null,
      "outputs": []
    },
    {
      "cell_type": "markdown",
      "metadata": {
        "id": "LnvOvfk8KQXm"
      },
      "source": [
        "We now proceed to compute the first feature: `nb_previous_ratings`"
      ]
    },
    {
      "cell_type": "code",
      "metadata": {
        "colab": {
          "base_uri": "https://localhost:8080/",
          "height": 419
        },
        "id": "3dv8WNZDKQXm",
        "outputId": "71f7999f-276e-425c-8e62-44bcce0de29b"
      },
      "source": [
        "df_ratings_truncated = df_ratings_truncated.sort_values(by=[\"userId\", \"timestamp\"])\n",
        "df_ratings_truncated = df_ratings_truncated.reset_index(drop=True)\n",
        "df_ratings_truncated[\"timestamp\"] = pd.to_datetime(df_ratings_truncated.timestamp)\n",
        "df_ratings_truncated"
      ],
      "execution_count": null,
      "outputs": [
        {
          "output_type": "execute_result",
          "data": {
            "text/html": [
              "<div>\n",
              "<style scoped>\n",
              "    .dataframe tbody tr th:only-of-type {\n",
              "        vertical-align: middle;\n",
              "    }\n",
              "\n",
              "    .dataframe tbody tr th {\n",
              "        vertical-align: top;\n",
              "    }\n",
              "\n",
              "    .dataframe thead th {\n",
              "        text-align: right;\n",
              "    }\n",
              "</style>\n",
              "<table border=\"1\" class=\"dataframe\">\n",
              "  <thead>\n",
              "    <tr style=\"text-align: right;\">\n",
              "      <th></th>\n",
              "      <th>userId</th>\n",
              "      <th>movieId</th>\n",
              "      <th>rating</th>\n",
              "      <th>timestamp</th>\n",
              "      <th>rating_binary</th>\n",
              "    </tr>\n",
              "  </thead>\n",
              "  <tbody>\n",
              "    <tr>\n",
              "      <th>0</th>\n",
              "      <td>1</td>\n",
              "      <td>924</td>\n",
              "      <td>3.5</td>\n",
              "      <td>2004-09-10 03:06:38</td>\n",
              "      <td>0</td>\n",
              "    </tr>\n",
              "    <tr>\n",
              "      <th>1</th>\n",
              "      <td>1</td>\n",
              "      <td>919</td>\n",
              "      <td>3.5</td>\n",
              "      <td>2004-09-10 03:07:01</td>\n",
              "      <td>0</td>\n",
              "    </tr>\n",
              "    <tr>\n",
              "      <th>2</th>\n",
              "      <td>1</td>\n",
              "      <td>2683</td>\n",
              "      <td>3.5</td>\n",
              "      <td>2004-09-10 03:07:30</td>\n",
              "      <td>0</td>\n",
              "    </tr>\n",
              "    <tr>\n",
              "      <th>3</th>\n",
              "      <td>1</td>\n",
              "      <td>1584</td>\n",
              "      <td>3.5</td>\n",
              "      <td>2004-09-10 03:07:36</td>\n",
              "      <td>0</td>\n",
              "    </tr>\n",
              "    <tr>\n",
              "      <th>4</th>\n",
              "      <td>1</td>\n",
              "      <td>1079</td>\n",
              "      <td>4.0</td>\n",
              "      <td>2004-09-10 03:07:45</td>\n",
              "      <td>1</td>\n",
              "    </tr>\n",
              "    <tr>\n",
              "      <th>...</th>\n",
              "      <td>...</td>\n",
              "      <td>...</td>\n",
              "      <td>...</td>\n",
              "      <td>...</td>\n",
              "      <td>...</td>\n",
              "    </tr>\n",
              "    <tr>\n",
              "      <th>99996</th>\n",
              "      <td>702</td>\n",
              "      <td>489</td>\n",
              "      <td>0.5</td>\n",
              "      <td>2004-09-19 21:43:56</td>\n",
              "      <td>0</td>\n",
              "    </tr>\n",
              "    <tr>\n",
              "      <th>99997</th>\n",
              "      <td>702</td>\n",
              "      <td>1005</td>\n",
              "      <td>0.5</td>\n",
              "      <td>2004-09-19 21:46:36</td>\n",
              "      <td>0</td>\n",
              "    </tr>\n",
              "    <tr>\n",
              "      <th>99998</th>\n",
              "      <td>702</td>\n",
              "      <td>102</td>\n",
              "      <td>0.5</td>\n",
              "      <td>2004-09-19 21:47:08</td>\n",
              "      <td>0</td>\n",
              "    </tr>\n",
              "    <tr>\n",
              "      <th>99999</th>\n",
              "      <td>702</td>\n",
              "      <td>437</td>\n",
              "      <td>1.0</td>\n",
              "      <td>2004-09-19 21:47:27</td>\n",
              "      <td>0</td>\n",
              "    </tr>\n",
              "    <tr>\n",
              "      <th>100000</th>\n",
              "      <td>702</td>\n",
              "      <td>193</td>\n",
              "      <td>1.0</td>\n",
              "      <td>2004-09-19 21:50:00</td>\n",
              "      <td>0</td>\n",
              "    </tr>\n",
              "  </tbody>\n",
              "</table>\n",
              "<p>100001 rows × 5 columns</p>\n",
              "</div>"
            ],
            "text/plain": [
              "        userId  movieId  rating           timestamp  rating_binary\n",
              "0            1      924     3.5 2004-09-10 03:06:38              0\n",
              "1            1      919     3.5 2004-09-10 03:07:01              0\n",
              "2            1     2683     3.5 2004-09-10 03:07:30              0\n",
              "3            1     1584     3.5 2004-09-10 03:07:36              0\n",
              "4            1     1079     4.0 2004-09-10 03:07:45              1\n",
              "...        ...      ...     ...                 ...            ...\n",
              "99996      702      489     0.5 2004-09-19 21:43:56              0\n",
              "99997      702     1005     0.5 2004-09-19 21:46:36              0\n",
              "99998      702      102     0.5 2004-09-19 21:47:08              0\n",
              "99999      702      437     1.0 2004-09-19 21:47:27              0\n",
              "100000     702      193     1.0 2004-09-19 21:50:00              0\n",
              "\n",
              "[100001 rows x 5 columns]"
            ]
          },
          "metadata": {
            "tags": []
          },
          "execution_count": 6
        }
      ]
    },
    {
      "cell_type": "code",
      "metadata": {
        "id": "u65plnI3KQXm"
      },
      "source": [
        "df_grouped = df_ratings_truncated.groupby(\"userId\")\n",
        "df_ratings_truncated[\"nb_previous_ratings\"] = df_grouped[\"timestamp\"].rank(method=\"first\") - 1"
      ],
      "execution_count": null,
      "outputs": []
    },
    {
      "cell_type": "code",
      "metadata": {
        "colab": {
          "base_uri": "https://localhost:8080/",
          "height": 419
        },
        "id": "SvxaBBSvKQXn",
        "outputId": "57c4d83b-05f1-493b-c97c-dab9b4d806e9"
      },
      "source": [
        "df_ratings_truncated"
      ],
      "execution_count": null,
      "outputs": [
        {
          "output_type": "execute_result",
          "data": {
            "text/html": [
              "<div>\n",
              "<style scoped>\n",
              "    .dataframe tbody tr th:only-of-type {\n",
              "        vertical-align: middle;\n",
              "    }\n",
              "\n",
              "    .dataframe tbody tr th {\n",
              "        vertical-align: top;\n",
              "    }\n",
              "\n",
              "    .dataframe thead th {\n",
              "        text-align: right;\n",
              "    }\n",
              "</style>\n",
              "<table border=\"1\" class=\"dataframe\">\n",
              "  <thead>\n",
              "    <tr style=\"text-align: right;\">\n",
              "      <th></th>\n",
              "      <th>userId</th>\n",
              "      <th>movieId</th>\n",
              "      <th>rating</th>\n",
              "      <th>timestamp</th>\n",
              "      <th>rating_binary</th>\n",
              "      <th>nb_previous_ratings</th>\n",
              "    </tr>\n",
              "  </thead>\n",
              "  <tbody>\n",
              "    <tr>\n",
              "      <th>0</th>\n",
              "      <td>1</td>\n",
              "      <td>924</td>\n",
              "      <td>3.5</td>\n",
              "      <td>2004-09-10 03:06:38</td>\n",
              "      <td>0</td>\n",
              "      <td>0.0</td>\n",
              "    </tr>\n",
              "    <tr>\n",
              "      <th>1</th>\n",
              "      <td>1</td>\n",
              "      <td>919</td>\n",
              "      <td>3.5</td>\n",
              "      <td>2004-09-10 03:07:01</td>\n",
              "      <td>0</td>\n",
              "      <td>1.0</td>\n",
              "    </tr>\n",
              "    <tr>\n",
              "      <th>2</th>\n",
              "      <td>1</td>\n",
              "      <td>2683</td>\n",
              "      <td>3.5</td>\n",
              "      <td>2004-09-10 03:07:30</td>\n",
              "      <td>0</td>\n",
              "      <td>2.0</td>\n",
              "    </tr>\n",
              "    <tr>\n",
              "      <th>3</th>\n",
              "      <td>1</td>\n",
              "      <td>1584</td>\n",
              "      <td>3.5</td>\n",
              "      <td>2004-09-10 03:07:36</td>\n",
              "      <td>0</td>\n",
              "      <td>3.0</td>\n",
              "    </tr>\n",
              "    <tr>\n",
              "      <th>4</th>\n",
              "      <td>1</td>\n",
              "      <td>1079</td>\n",
              "      <td>4.0</td>\n",
              "      <td>2004-09-10 03:07:45</td>\n",
              "      <td>1</td>\n",
              "      <td>4.0</td>\n",
              "    </tr>\n",
              "    <tr>\n",
              "      <th>...</th>\n",
              "      <td>...</td>\n",
              "      <td>...</td>\n",
              "      <td>...</td>\n",
              "      <td>...</td>\n",
              "      <td>...</td>\n",
              "      <td>...</td>\n",
              "    </tr>\n",
              "    <tr>\n",
              "      <th>99996</th>\n",
              "      <td>702</td>\n",
              "      <td>489</td>\n",
              "      <td>0.5</td>\n",
              "      <td>2004-09-19 21:43:56</td>\n",
              "      <td>0</td>\n",
              "      <td>203.0</td>\n",
              "    </tr>\n",
              "    <tr>\n",
              "      <th>99997</th>\n",
              "      <td>702</td>\n",
              "      <td>1005</td>\n",
              "      <td>0.5</td>\n",
              "      <td>2004-09-19 21:46:36</td>\n",
              "      <td>0</td>\n",
              "      <td>204.0</td>\n",
              "    </tr>\n",
              "    <tr>\n",
              "      <th>99998</th>\n",
              "      <td>702</td>\n",
              "      <td>102</td>\n",
              "      <td>0.5</td>\n",
              "      <td>2004-09-19 21:47:08</td>\n",
              "      <td>0</td>\n",
              "      <td>205.0</td>\n",
              "    </tr>\n",
              "    <tr>\n",
              "      <th>99999</th>\n",
              "      <td>702</td>\n",
              "      <td>437</td>\n",
              "      <td>1.0</td>\n",
              "      <td>2004-09-19 21:47:27</td>\n",
              "      <td>0</td>\n",
              "      <td>206.0</td>\n",
              "    </tr>\n",
              "    <tr>\n",
              "      <th>100000</th>\n",
              "      <td>702</td>\n",
              "      <td>193</td>\n",
              "      <td>1.0</td>\n",
              "      <td>2004-09-19 21:50:00</td>\n",
              "      <td>0</td>\n",
              "      <td>207.0</td>\n",
              "    </tr>\n",
              "  </tbody>\n",
              "</table>\n",
              "<p>100001 rows × 6 columns</p>\n",
              "</div>"
            ],
            "text/plain": [
              "        userId  movieId  ...  rating_binary nb_previous_ratings\n",
              "0            1      924  ...              0                 0.0\n",
              "1            1      919  ...              0                 1.0\n",
              "2            1     2683  ...              0                 2.0\n",
              "3            1     1584  ...              0                 3.0\n",
              "4            1     1079  ...              1                 4.0\n",
              "...        ...      ...  ...            ...                 ...\n",
              "99996      702      489  ...              0               203.0\n",
              "99997      702     1005  ...              0               204.0\n",
              "99998      702      102  ...              0               205.0\n",
              "99999      702      437  ...              0               206.0\n",
              "100000     702      193  ...              0               207.0\n",
              "\n",
              "[100001 rows x 6 columns]"
            ]
          },
          "metadata": {
            "tags": []
          },
          "execution_count": 8
        }
      ]
    },
    {
      "cell_type": "markdown",
      "metadata": {
        "id": "9tZ6BQ1KKQXn"
      },
      "source": [
        "We now compute the second feature: `avg_ratings_previous`"
      ]
    },
    {
      "cell_type": "code",
      "metadata": {
        "id": "s7Ni3e-VKQXn"
      },
      "source": [
        "def avg_previous(df):\n",
        "    avg = pd.Series(index=df.index)\n",
        "    for i in df.index:\n",
        "        df_aux = df.loc[df.timestamp < df.timestamp.loc[i], :]\n",
        "        avg.at[i] = df_aux.rating.mean()\n",
        "    return avg"
      ],
      "execution_count": null,
      "outputs": []
    },
    {
      "cell_type": "code",
      "metadata": {
        "id": "6oVrHGqDKQXn"
      },
      "source": [
        "import warnings\n",
        "from time import *\n",
        "warnings.filterwarnings('ignore')"
      ],
      "execution_count": null,
      "outputs": []
    },
    {
      "cell_type": "code",
      "metadata": {
        "colab": {
          "base_uri": "https://localhost:8080/"
        },
        "id": "fIi-xHvMKQXo",
        "outputId": "4726608e-e4fb-4f4c-bf6f-ddeb984e960b"
      },
      "source": [
        "avg_ratings_previous = pd.Series()\n",
        "initial_time = time()\n",
        "# the following cycle is the one that takes forever if we try to compute it for the whole dataset\n",
        "for user in df_ratings_truncated.userId.unique():\n",
        "    df_user = df_ratings_truncated.loc[df_ratings_truncated.userId == user, :]\n",
        "    avg_ratings_previous = avg_ratings_previous.append(avg_previous(df_user))\n",
        "end_time = time()\n",
        "print(\"naive computation time (s): \", end_time-initial_time)\n",
        "avg_ratings_previous"
      ],
      "execution_count": null,
      "outputs": [
        {
          "output_type": "stream",
          "text": [
            "naive computation time (s):  80.72360944747925\n"
          ],
          "name": "stdout"
        },
        {
          "output_type": "execute_result",
          "data": {
            "text/plain": [
              "0              NaN\n",
              "1         3.500000\n",
              "2         3.500000\n",
              "3         3.500000\n",
              "4         3.500000\n",
              "            ...   \n",
              "99996     2.871921\n",
              "99997     2.860294\n",
              "99998     2.848780\n",
              "99999     2.837379\n",
              "100000    2.828502\n",
              "Length: 100001, dtype: float64"
            ]
          },
          "metadata": {
            "tags": []
          },
          "execution_count": 11
        }
      ]
    },
    {
      "cell_type": "code",
      "metadata": {
        "colab": {
          "base_uri": "https://localhost:8080/",
          "height": 359
        },
        "id": "JfUNz-3tKQXo",
        "outputId": "e82b1845-649d-4c8f-c771-6f16764345b5"
      },
      "source": [
        "df_ratings_truncated[\"avg_ratings_previous\"] = avg_ratings_previous\n",
        "df_ratings_truncated.head(10)"
      ],
      "execution_count": null,
      "outputs": [
        {
          "output_type": "execute_result",
          "data": {
            "text/html": [
              "<div>\n",
              "<style scoped>\n",
              "    .dataframe tbody tr th:only-of-type {\n",
              "        vertical-align: middle;\n",
              "    }\n",
              "\n",
              "    .dataframe tbody tr th {\n",
              "        vertical-align: top;\n",
              "    }\n",
              "\n",
              "    .dataframe thead th {\n",
              "        text-align: right;\n",
              "    }\n",
              "</style>\n",
              "<table border=\"1\" class=\"dataframe\">\n",
              "  <thead>\n",
              "    <tr style=\"text-align: right;\">\n",
              "      <th></th>\n",
              "      <th>userId</th>\n",
              "      <th>movieId</th>\n",
              "      <th>rating</th>\n",
              "      <th>timestamp</th>\n",
              "      <th>rating_binary</th>\n",
              "      <th>nb_previous_ratings</th>\n",
              "      <th>avg_ratings_previous</th>\n",
              "    </tr>\n",
              "  </thead>\n",
              "  <tbody>\n",
              "    <tr>\n",
              "      <th>0</th>\n",
              "      <td>1</td>\n",
              "      <td>924</td>\n",
              "      <td>3.5</td>\n",
              "      <td>2004-09-10 03:06:38</td>\n",
              "      <td>0</td>\n",
              "      <td>0.0</td>\n",
              "      <td>NaN</td>\n",
              "    </tr>\n",
              "    <tr>\n",
              "      <th>1</th>\n",
              "      <td>1</td>\n",
              "      <td>919</td>\n",
              "      <td>3.5</td>\n",
              "      <td>2004-09-10 03:07:01</td>\n",
              "      <td>0</td>\n",
              "      <td>1.0</td>\n",
              "      <td>3.500000</td>\n",
              "    </tr>\n",
              "    <tr>\n",
              "      <th>2</th>\n",
              "      <td>1</td>\n",
              "      <td>2683</td>\n",
              "      <td>3.5</td>\n",
              "      <td>2004-09-10 03:07:30</td>\n",
              "      <td>0</td>\n",
              "      <td>2.0</td>\n",
              "      <td>3.500000</td>\n",
              "    </tr>\n",
              "    <tr>\n",
              "      <th>3</th>\n",
              "      <td>1</td>\n",
              "      <td>1584</td>\n",
              "      <td>3.5</td>\n",
              "      <td>2004-09-10 03:07:36</td>\n",
              "      <td>0</td>\n",
              "      <td>3.0</td>\n",
              "      <td>3.500000</td>\n",
              "    </tr>\n",
              "    <tr>\n",
              "      <th>4</th>\n",
              "      <td>1</td>\n",
              "      <td>1079</td>\n",
              "      <td>4.0</td>\n",
              "      <td>2004-09-10 03:07:45</td>\n",
              "      <td>1</td>\n",
              "      <td>4.0</td>\n",
              "      <td>3.500000</td>\n",
              "    </tr>\n",
              "    <tr>\n",
              "      <th>5</th>\n",
              "      <td>1</td>\n",
              "      <td>653</td>\n",
              "      <td>3.0</td>\n",
              "      <td>2004-09-10 03:08:11</td>\n",
              "      <td>0</td>\n",
              "      <td>5.0</td>\n",
              "      <td>3.600000</td>\n",
              "    </tr>\n",
              "    <tr>\n",
              "      <th>6</th>\n",
              "      <td>1</td>\n",
              "      <td>2959</td>\n",
              "      <td>4.0</td>\n",
              "      <td>2004-09-10 03:08:18</td>\n",
              "      <td>1</td>\n",
              "      <td>6.0</td>\n",
              "      <td>3.500000</td>\n",
              "    </tr>\n",
              "    <tr>\n",
              "      <th>7</th>\n",
              "      <td>1</td>\n",
              "      <td>337</td>\n",
              "      <td>3.5</td>\n",
              "      <td>2004-09-10 03:08:29</td>\n",
              "      <td>0</td>\n",
              "      <td>7.0</td>\n",
              "      <td>3.571429</td>\n",
              "    </tr>\n",
              "    <tr>\n",
              "      <th>8</th>\n",
              "      <td>1</td>\n",
              "      <td>1304</td>\n",
              "      <td>3.0</td>\n",
              "      <td>2004-09-10 03:08:40</td>\n",
              "      <td>0</td>\n",
              "      <td>8.0</td>\n",
              "      <td>3.562500</td>\n",
              "    </tr>\n",
              "    <tr>\n",
              "      <th>9</th>\n",
              "      <td>1</td>\n",
              "      <td>3996</td>\n",
              "      <td>4.0</td>\n",
              "      <td>2004-09-10 03:08:47</td>\n",
              "      <td>1</td>\n",
              "      <td>9.0</td>\n",
              "      <td>3.500000</td>\n",
              "    </tr>\n",
              "  </tbody>\n",
              "</table>\n",
              "</div>"
            ],
            "text/plain": [
              "   userId  movieId  ...  nb_previous_ratings avg_ratings_previous\n",
              "0       1      924  ...                  0.0                  NaN\n",
              "1       1      919  ...                  1.0             3.500000\n",
              "2       1     2683  ...                  2.0             3.500000\n",
              "3       1     1584  ...                  3.0             3.500000\n",
              "4       1     1079  ...                  4.0             3.500000\n",
              "5       1      653  ...                  5.0             3.600000\n",
              "6       1     2959  ...                  6.0             3.500000\n",
              "7       1      337  ...                  7.0             3.571429\n",
              "8       1     1304  ...                  8.0             3.562500\n",
              "9       1     3996  ...                  9.0             3.500000\n",
              "\n",
              "[10 rows x 7 columns]"
            ]
          },
          "metadata": {
            "tags": []
          },
          "execution_count": 12
        }
      ]
    },
    {
      "cell_type": "markdown",
      "metadata": {
        "id": "fVBgP4AYM0X1"
      },
      "source": [
        "PySpark and Java installation\r\n"
      ]
    },
    {
      "cell_type": "code",
      "metadata": {
        "id": "4bXZUomjKQXo"
      },
      "source": [
        "!apt-get install openjdk-8-jdk-headless -qq > /dev/null\n",
        "!wget -q https://downloads.apache.org/spark/spark-2.4.7/spark-2.4.7-bin-hadoop2.7.tgz\n",
        "#!wget -q https://www-us.apache.org/dist/spark/spark-2.4.1/spark-2.4.1-bin-hadoop2.7.tgz\n",
        "!tar xf spark-2.4.7-bin-hadoop2.7.tgz\n",
        "!pip install -q findspark"
      ],
      "execution_count": null,
      "outputs": []
    },
    {
      "cell_type": "code",
      "metadata": {
        "id": "aH-lVqilKQXo"
      },
      "source": [
        "import os\n",
        "os.environ[\"JAVA_HOME\"] = \"/usr/lib/jvm/java-8-openjdk-amd64\"\n",
        "os.environ[\"SPARK_HOME\"] = \"/content/spark-2.4.7-bin-hadoop2.7\""
      ],
      "execution_count": null,
      "outputs": []
    },
    {
      "cell_type": "markdown",
      "metadata": {
        "id": "8zTD0x_xNeoO"
      },
      "source": [
        "we initiate the Spark session"
      ]
    },
    {
      "cell_type": "code",
      "metadata": {
        "id": "TdAzZTGKKQXp"
      },
      "source": [
        "import findspark\n",
        "findspark.init()\n",
        "import pandas_gbq\n",
        "from pyspark.sql import SparkSession\n",
        "spark = SparkSession.builder.master(\"local[*]\").getOrCreate()\n",
        "from pyspark.sql import SQLContext\n",
        "sqlContext = SQLContext(spark)\n"
      ],
      "execution_count": null,
      "outputs": []
    },
    {
      "cell_type": "markdown",
      "metadata": {
        "id": "HYx-XAH5uH7q"
      },
      "source": [
        "we create a pyspark sqlcontext of the truncated DataFrame (we use the truncated dataframe for illustrative purposes)"
      ]
    },
    {
      "cell_type": "code",
      "metadata": {
        "colab": {
          "base_uri": "https://localhost:8080/"
        },
        "id": "kOsHUyWgf3UA",
        "outputId": "aaca2103-3999-487f-e4d3-8f65e17514cd"
      },
      "source": [
        "sqlc_truncated_ratings = sqlContext.createDataFrame(df_ratings_truncated.iloc[:,:-1])\r\n",
        "sqlc_truncated_ratings.show()"
      ],
      "execution_count": null,
      "outputs": [
        {
          "output_type": "stream",
          "text": [
            "+------+-------+------+-------------------+-------------+-------------------+\n",
            "|userId|movieId|rating|          timestamp|rating_binary|nb_previous_ratings|\n",
            "+------+-------+------+-------------------+-------------+-------------------+\n",
            "|     1|    924|   3.5|2004-09-10 03:06:38|            0|                0.0|\n",
            "|     1|    919|   3.5|2004-09-10 03:07:01|            0|                1.0|\n",
            "|     1|   2683|   3.5|2004-09-10 03:07:30|            0|                2.0|\n",
            "|     1|   1584|   3.5|2004-09-10 03:07:36|            0|                3.0|\n",
            "|     1|   1079|   4.0|2004-09-10 03:07:45|            1|                4.0|\n",
            "|     1|    653|   3.0|2004-09-10 03:08:11|            0|                5.0|\n",
            "|     1|   2959|   4.0|2004-09-10 03:08:18|            1|                6.0|\n",
            "|     1|    337|   3.5|2004-09-10 03:08:29|            0|                7.0|\n",
            "|     1|   1304|   3.0|2004-09-10 03:08:40|            0|                8.0|\n",
            "|     1|   3996|   4.0|2004-09-10 03:08:47|            1|                9.0|\n",
            "|     1|    151|   4.0|2004-09-10 03:08:54|            1|               10.0|\n",
            "|     1|    112|   3.5|2004-09-10 03:09:00|            0|               11.0|\n",
            "|     1|   1374|   4.0|2004-09-10 03:09:06|            1|               12.0|\n",
            "|     1|   1246|   3.5|2004-09-10 03:09:19|            0|               13.0|\n",
            "|     1|   1370|   3.0|2004-09-10 03:09:24|            0|               14.0|\n",
            "|     1|   2291|   4.0|2004-09-10 03:09:37|            1|               15.0|\n",
            "|     1|   4306|   4.0|2004-09-10 03:09:44|            1|               16.0|\n",
            "|     1|   1214|   4.0|2004-09-10 03:12:57|            1|               17.0|\n",
            "|     1|   1278|   4.0|2004-09-10 03:13:06|            1|               18.0|\n",
            "|     1|   1219|   4.0|2004-09-10 03:13:14|            1|               19.0|\n",
            "+------+-------+------+-------------------+-------------+-------------------+\n",
            "only showing top 20 rows\n",
            "\n"
          ],
          "name": "stdout"
        }
      ]
    },
    {
      "cell_type": "markdown",
      "metadata": {
        "id": "5aXjZ0oC3IaW"
      },
      "source": [
        "we calculate the expanding average of every user (we see that this naive computation time is much less than using just Pandas in Python)\r\n"
      ]
    },
    {
      "cell_type": "code",
      "metadata": {
        "colab": {
          "base_uri": "https://localhost:8080/"
        },
        "id": "u_OQyPkegr_I",
        "outputId": "8fffb548-9867-4d04-80f2-7430cb9017e9"
      },
      "source": [
        "sqlc_truncated_ratings.createOrReplaceTempView(\"sqlc_truncated_ratings\")\r\n",
        "spark_initial_time = time()\r\n",
        "\r\n",
        "\r\n",
        "sqlc_truncated_ratings = spark.sql(\"\"\"select *, \r\n",
        "                          avg(rating)\r\n",
        "                          over (partition by userId order by userId, timestamp) * nb_previous_ratings / nb_previous_ratings\r\n",
        "                          as avg_previous_ratings \r\n",
        "                          from sqlc_truncated_ratings\r\n",
        "                          \"\"\")\r\n",
        "\r\n",
        "spark_end_time = time()\r\n",
        "print(\"naive spark computation time (s):\", spark_end_time-spark_initial_time)\r\n",
        "#sqlc_truncated_ratings.orderBy(\"userId\",\"timestamp\").show()\r\n",
        "#sql_ratings_table= sqlc_truncated_ratings.orderBy(\"userId\",\"timestamp\")\r\n",
        "#sqlc_truncated_ratings = spark.sql(\"\"\"insert into sqlc_truncated_ratings select avg_previous_ratings.* from (select '6','FFF') avg_previous_ratings\"\"\")\r\n",
        "sqlc_truncated_ratings = sqlc_truncated_ratings.orderBy(\"userId\",\"timestamp\").na.fill(0)\r\n",
        "sqlc_truncated_ratings.show()\r\n",
        "\r\n",
        "                          "
      ],
      "execution_count": null,
      "outputs": [
        {
          "output_type": "stream",
          "text": [
            "naive spark computation time (s): 0.28458642959594727\n",
            "+------+-------+------+-------------------+-------------+-------------------+--------------------+\n",
            "|userId|movieId|rating|          timestamp|rating_binary|nb_previous_ratings|avg_previous_ratings|\n",
            "+------+-------+------+-------------------+-------------+-------------------+--------------------+\n",
            "|     1|    924|   3.5|2004-09-10 03:06:38|            0|                0.0|                 0.0|\n",
            "|     1|    919|   3.5|2004-09-10 03:07:01|            0|                1.0|                 3.5|\n",
            "|     1|   2683|   3.5|2004-09-10 03:07:30|            0|                2.0|                 3.5|\n",
            "|     1|   1584|   3.5|2004-09-10 03:07:36|            0|                3.0|                 3.5|\n",
            "|     1|   1079|   4.0|2004-09-10 03:07:45|            1|                4.0|                 3.6|\n",
            "|     1|    653|   3.0|2004-09-10 03:08:11|            0|                5.0|                 3.5|\n",
            "|     1|   2959|   4.0|2004-09-10 03:08:18|            1|                6.0|  3.5714285714285716|\n",
            "|     1|    337|   3.5|2004-09-10 03:08:29|            0|                7.0|              3.5625|\n",
            "|     1|   1304|   3.0|2004-09-10 03:08:40|            0|                8.0|                 3.5|\n",
            "|     1|   3996|   4.0|2004-09-10 03:08:47|            1|                9.0|                3.55|\n",
            "|     1|    151|   4.0|2004-09-10 03:08:54|            1|               10.0|   3.590909090909091|\n",
            "|     1|    112|   3.5|2004-09-10 03:09:00|            0|               11.0|   3.583333333333334|\n",
            "|     1|   1374|   4.0|2004-09-10 03:09:06|            1|               12.0|  3.6153846153846154|\n",
            "|     1|   1246|   3.5|2004-09-10 03:09:19|            0|               13.0|   3.607142857142857|\n",
            "|     1|   1370|   3.0|2004-09-10 03:09:24|            0|               14.0|   3.566666666666667|\n",
            "|     1|   2291|   4.0|2004-09-10 03:09:37|            1|               15.0|             3.59375|\n",
            "|     1|   4306|   4.0|2004-09-10 03:09:44|            1|               16.0|  3.6176470588235294|\n",
            "|     1|   1214|   4.0|2004-09-10 03:12:57|            1|               17.0|   3.638888888888889|\n",
            "|     1|   1278|   4.0|2004-09-10 03:13:06|            1|               18.0|   3.657894736842105|\n",
            "|     1|   1219|   4.0|2004-09-10 03:13:14|            1|               19.0|  3.6904761904761907|\n",
            "+------+-------+------+-------------------+-------------+-------------------+--------------------+\n",
            "only showing top 20 rows\n",
            "\n"
          ],
          "name": "stdout"
        }
      ]
    },
    {
      "cell_type": "markdown",
      "metadata": {
        "id": "D1iF6WwLEG6I"
      },
      "source": [
        "we install mlflow"
      ]
    },
    {
      "cell_type": "code",
      "metadata": {
        "colab": {
          "base_uri": "https://localhost:8080/"
        },
        "id": "GxQvntqohEeZ",
        "outputId": "9ef9e65c-8f3e-4723-f888-e7acb4ccde60"
      },
      "source": [
        "!pip install mlflow \r\n",
        "!pip install tqdm\r\n",
        "!pip install pyarrow\r\n",
        "!pip install pyngrok "
      ],
      "execution_count": null,
      "outputs": [
        {
          "output_type": "stream",
          "text": [
            "Collecting mlflow\n",
            "\u001b[?25l  Downloading https://files.pythonhosted.org/packages/b6/69/c6b3911ccb421adc779390ca2ea54cb888a54e282d50e8d20ce751b5c7ab/mlflow-1.12.1-py3-none-any.whl (13.9MB)\n",
            "\u001b[K     |████████████████████████████████| 13.9MB 294kB/s \n",
            "\u001b[?25hCollecting databricks-cli>=0.8.7\n",
            "\u001b[?25l  Downloading https://files.pythonhosted.org/packages/40/88/ae1f78cf582b707c605c77df49b4c8786a4465edc51adb25d2f98ef4c4de/databricks-cli-0.14.1.tar.gz (54kB)\n",
            "\u001b[K     |████████████████████████████████| 61kB 7.1MB/s \n",
            "\u001b[?25hRequirement already satisfied: six>=1.10.0 in /usr/local/lib/python3.6/dist-packages (from mlflow) (1.15.0)\n",
            "Requirement already satisfied: pandas in /usr/local/lib/python3.6/dist-packages (from mlflow) (1.1.5)\n",
            "Collecting gunicorn; platform_system != \"Windows\"\n",
            "\u001b[?25l  Downloading https://files.pythonhosted.org/packages/69/ca/926f7cd3a2014b16870086b2d0fdc84a9e49473c68a8dff8b57f7c156f43/gunicorn-20.0.4-py2.py3-none-any.whl (77kB)\n",
            "\u001b[K     |████████████████████████████████| 81kB 7.7MB/s \n",
            "\u001b[?25hCollecting alembic<=1.4.1\n",
            "\u001b[?25l  Downloading https://files.pythonhosted.org/packages/e0/e9/359dbb77c35c419df0aedeb1d53e71e7e3f438ff64a8fdb048c907404de3/alembic-1.4.1.tar.gz (1.1MB)\n",
            "\u001b[K     |████████████████████████████████| 1.1MB 42.8MB/s \n",
            "\u001b[?25hRequirement already satisfied: python-dateutil in /usr/local/lib/python3.6/dist-packages (from mlflow) (2.8.1)\n",
            "Requirement already satisfied: protobuf>=3.6.0 in /usr/local/lib/python3.6/dist-packages (from mlflow) (3.12.4)\n",
            "Collecting azure-storage-blob\n",
            "\u001b[?25l  Downloading https://files.pythonhosted.org/packages/e7/5d/0bb4ed37da2523c393789b1d8ecbf56b1d35fa344af30fe423da2c06cbe9/azure_storage_blob-12.6.0-py2.py3-none-any.whl (328kB)\n",
            "\u001b[K     |████████████████████████████████| 337kB 36.3MB/s \n",
            "\u001b[?25hCollecting querystring-parser\n",
            "  Downloading https://files.pythonhosted.org/packages/88/6b/572b2590fd55114118bf08bde63c0a421dcc82d593700f3e2ad89908a8a9/querystring_parser-1.2.4-py2.py3-none-any.whl\n",
            "Requirement already satisfied: pyyaml in /usr/local/lib/python3.6/dist-packages (from mlflow) (3.13)\n",
            "Requirement already satisfied: click>=7.0 in /usr/local/lib/python3.6/dist-packages (from mlflow) (7.1.2)\n",
            "Collecting gitpython>=2.1.0\n",
            "\u001b[?25l  Downloading https://files.pythonhosted.org/packages/24/d1/a7f8fe3df258549b303415157328bfcc63e9b11d06a7ad7a3327f3d32606/GitPython-3.1.11-py3-none-any.whl (159kB)\n",
            "\u001b[K     |████████████████████████████████| 163kB 51.8MB/s \n",
            "\u001b[?25hRequirement already satisfied: numpy in /usr/local/lib/python3.6/dist-packages (from mlflow) (1.19.4)\n",
            "Requirement already satisfied: Flask in /usr/local/lib/python3.6/dist-packages (from mlflow) (1.1.2)\n",
            "Requirement already satisfied: requests>=2.17.3 in /usr/local/lib/python3.6/dist-packages (from mlflow) (2.23.0)\n",
            "Requirement already satisfied: entrypoints in /usr/local/lib/python3.6/dist-packages (from mlflow) (0.3)\n",
            "Requirement already satisfied: sqlalchemy in /usr/local/lib/python3.6/dist-packages (from mlflow) (1.3.20)\n",
            "Collecting prometheus-flask-exporter\n",
            "  Downloading https://files.pythonhosted.org/packages/4c/d5/8a046d683c2cc084b6a502812827ede69b1064f95d93f94b83f809b21723/prometheus_flask_exporter-0.18.1.tar.gz\n",
            "Requirement already satisfied: sqlparse>=0.3.1 in /usr/local/lib/python3.6/dist-packages (from mlflow) (0.4.1)\n",
            "Collecting docker>=4.0.0\n",
            "\u001b[?25l  Downloading https://files.pythonhosted.org/packages/ef/b7/eb7b7138bb5e6d28cf84fa586fe594619ca097b6207caa5f2ebe0c66a4ed/docker-4.4.0-py2.py3-none-any.whl (146kB)\n",
            "\u001b[K     |████████████████████████████████| 153kB 49.6MB/s \n",
            "\u001b[?25hRequirement already satisfied: cloudpickle in /usr/local/lib/python3.6/dist-packages (from mlflow) (1.3.0)\n",
            "Requirement already satisfied: tabulate>=0.7.7 in /usr/local/lib/python3.6/dist-packages (from databricks-cli>=0.8.7->mlflow) (0.8.7)\n",
            "Requirement already satisfied: pytz>=2017.2 in /usr/local/lib/python3.6/dist-packages (from pandas->mlflow) (2018.9)\n",
            "Requirement already satisfied: setuptools>=3.0 in /usr/local/lib/python3.6/dist-packages (from gunicorn; platform_system != \"Windows\"->mlflow) (50.3.2)\n",
            "Collecting Mako\n",
            "\u001b[?25l  Downloading https://files.pythonhosted.org/packages/a6/37/0e706200d22172eb8fa17d68a7ae22dec7631a0a92266634fb518a88a5b2/Mako-1.1.3-py2.py3-none-any.whl (75kB)\n",
            "\u001b[K     |████████████████████████████████| 81kB 8.9MB/s \n",
            "\u001b[?25hCollecting python-editor>=0.3\n",
            "  Downloading https://files.pythonhosted.org/packages/c6/d3/201fc3abe391bbae6606e6f1d598c15d367033332bd54352b12f35513717/python_editor-1.0.4-py3-none-any.whl\n",
            "Collecting cryptography>=2.1.4\n",
            "\u001b[?25l  Downloading https://files.pythonhosted.org/packages/c9/de/7054df0620b5411ba45480f0261e1fb66a53f3db31b28e3aa52c026e72d9/cryptography-3.3.1-cp36-abi3-manylinux2010_x86_64.whl (2.6MB)\n",
            "\u001b[K     |████████████████████████████████| 2.6MB 34.8MB/s \n",
            "\u001b[?25hCollecting msrest>=0.6.10\n",
            "\u001b[?25l  Downloading https://files.pythonhosted.org/packages/fa/f5/9e315fe8cb985b0ce052b34bcb767883dc739f46fadb62f05a7e6d6eedbe/msrest-0.6.19-py2.py3-none-any.whl (84kB)\n",
            "\u001b[K     |████████████████████████████████| 92kB 8.8MB/s \n",
            "\u001b[?25hCollecting azure-core<2.0.0,>=1.9.0\n",
            "\u001b[?25l  Downloading https://files.pythonhosted.org/packages/f8/4b/ea7faaafac956a168ab9a95a7ebe583f9d308e8332a68af0ed3128ef520c/azure_core-1.9.0-py2.py3-none-any.whl (124kB)\n",
            "\u001b[K     |████████████████████████████████| 133kB 49.0MB/s \n",
            "\u001b[?25hCollecting gitdb<5,>=4.0.1\n",
            "\u001b[?25l  Downloading https://files.pythonhosted.org/packages/48/11/d1800bca0a3bae820b84b7d813ad1eff15a48a64caea9c823fc8c1b119e8/gitdb-4.0.5-py3-none-any.whl (63kB)\n",
            "\u001b[K     |████████████████████████████████| 71kB 9.2MB/s \n",
            "\u001b[?25hRequirement already satisfied: Werkzeug>=0.15 in /usr/local/lib/python3.6/dist-packages (from Flask->mlflow) (1.0.1)\n",
            "Requirement already satisfied: itsdangerous>=0.24 in /usr/local/lib/python3.6/dist-packages (from Flask->mlflow) (1.1.0)\n",
            "Requirement already satisfied: Jinja2>=2.10.1 in /usr/local/lib/python3.6/dist-packages (from Flask->mlflow) (2.11.2)\n",
            "Requirement already satisfied: certifi>=2017.4.17 in /usr/local/lib/python3.6/dist-packages (from requests>=2.17.3->mlflow) (2020.12.5)\n",
            "Requirement already satisfied: urllib3!=1.25.0,!=1.25.1,<1.26,>=1.21.1 in /usr/local/lib/python3.6/dist-packages (from requests>=2.17.3->mlflow) (1.24.3)\n",
            "Requirement already satisfied: idna<3,>=2.5 in /usr/local/lib/python3.6/dist-packages (from requests>=2.17.3->mlflow) (2.10)\n",
            "Requirement already satisfied: chardet<4,>=3.0.2 in /usr/local/lib/python3.6/dist-packages (from requests>=2.17.3->mlflow) (3.0.4)\n",
            "Requirement already satisfied: prometheus_client in /usr/local/lib/python3.6/dist-packages (from prometheus-flask-exporter->mlflow) (0.9.0)\n",
            "Collecting websocket-client>=0.32.0\n",
            "\u001b[?25l  Downloading https://files.pythonhosted.org/packages/4c/5f/f61b420143ed1c8dc69f9eaec5ff1ac36109d52c80de49d66e0c36c3dfdf/websocket_client-0.57.0-py2.py3-none-any.whl (200kB)\n",
            "\u001b[K     |████████████████████████████████| 204kB 54.0MB/s \n",
            "\u001b[?25hRequirement already satisfied: MarkupSafe>=0.9.2 in /usr/local/lib/python3.6/dist-packages (from Mako->alembic<=1.4.1->mlflow) (1.1.1)\n",
            "Requirement already satisfied: cffi>=1.12 in /usr/local/lib/python3.6/dist-packages (from cryptography>=2.1.4->azure-storage-blob->mlflow) (1.14.4)\n",
            "Collecting isodate>=0.6.0\n",
            "\u001b[?25l  Downloading https://files.pythonhosted.org/packages/9b/9f/b36f7774ff5ea8e428fdcfc4bb332c39ee5b9362ddd3d40d9516a55221b2/isodate-0.6.0-py2.py3-none-any.whl (45kB)\n",
            "\u001b[K     |████████████████████████████████| 51kB 6.3MB/s \n",
            "\u001b[?25hRequirement already satisfied: requests-oauthlib>=0.5.0 in /usr/local/lib/python3.6/dist-packages (from msrest>=0.6.10->azure-storage-blob->mlflow) (1.3.0)\n",
            "Collecting smmap<4,>=3.0.1\n",
            "  Downloading https://files.pythonhosted.org/packages/b0/9a/4d409a6234eb940e6a78dfdfc66156e7522262f5f2fecca07dc55915952d/smmap-3.0.4-py2.py3-none-any.whl\n",
            "Requirement already satisfied: pycparser in /usr/local/lib/python3.6/dist-packages (from cffi>=1.12->cryptography>=2.1.4->azure-storage-blob->mlflow) (2.20)\n",
            "Requirement already satisfied: oauthlib>=3.0.0 in /usr/local/lib/python3.6/dist-packages (from requests-oauthlib>=0.5.0->msrest>=0.6.10->azure-storage-blob->mlflow) (3.1.0)\n",
            "Building wheels for collected packages: databricks-cli, alembic, prometheus-flask-exporter\n",
            "  Building wheel for databricks-cli (setup.py) ... \u001b[?25l\u001b[?25hdone\n",
            "  Created wheel for databricks-cli: filename=databricks_cli-0.14.1-cp36-none-any.whl size=100579 sha256=e7ab43ee92c375762c91ea3979109c4d3bae96954e58e5822ee981bece2bddeb\n",
            "  Stored in directory: /root/.cache/pip/wheels/82/91/ac/5d417ee5ccbb76c8cca096cf4cfb9ed9d49d889d1d1ca0fc39\n",
            "  Building wheel for alembic (setup.py) ... \u001b[?25l\u001b[?25hdone\n",
            "  Created wheel for alembic: filename=alembic-1.4.1-py2.py3-none-any.whl size=158155 sha256=83d68ff763c34f8ea66d80d9f92ebf0d1c179c5449b9992724934c71b2ce33e5\n",
            "  Stored in directory: /root/.cache/pip/wheels/84/07/f7/12f7370ca47a66030c2edeedcc23dec26ea0ac22dcb4c4a0f3\n",
            "  Building wheel for prometheus-flask-exporter (setup.py) ... \u001b[?25l\u001b[?25hdone\n",
            "  Created wheel for prometheus-flask-exporter: filename=prometheus_flask_exporter-0.18.1-cp36-none-any.whl size=17159 sha256=6b6856915bbbbced923d107757b8c49419cd44ef9ceaaca786ee068810d01068\n",
            "  Stored in directory: /root/.cache/pip/wheels/b4/1f/b8/66bd9bc3a9d6c6987ff6c4dfeb6f1fe97b5a0e5ed5849c0437\n",
            "Successfully built databricks-cli alembic prometheus-flask-exporter\n",
            "Installing collected packages: databricks-cli, gunicorn, Mako, python-editor, alembic, cryptography, isodate, msrest, azure-core, azure-storage-blob, querystring-parser, smmap, gitdb, gitpython, prometheus-flask-exporter, websocket-client, docker, mlflow\n",
            "Successfully installed Mako-1.1.3 alembic-1.4.1 azure-core-1.9.0 azure-storage-blob-12.6.0 cryptography-3.3.1 databricks-cli-0.14.1 docker-4.4.0 gitdb-4.0.5 gitpython-3.1.11 gunicorn-20.0.4 isodate-0.6.0 mlflow-1.12.1 msrest-0.6.19 prometheus-flask-exporter-0.18.1 python-editor-1.0.4 querystring-parser-1.2.4 smmap-3.0.4 websocket-client-0.57.0\n",
            "Requirement already satisfied: tqdm in /usr/local/lib/python3.6/dist-packages (4.41.1)\n",
            "Requirement already satisfied: pyarrow in /usr/local/lib/python3.6/dist-packages (0.14.1)\n",
            "Requirement already satisfied: six>=1.0.0 in /usr/local/lib/python3.6/dist-packages (from pyarrow) (1.15.0)\n",
            "Requirement already satisfied: numpy>=1.14 in /usr/local/lib/python3.6/dist-packages (from pyarrow) (1.19.4)\n",
            "Collecting pyngrok\n",
            "  Downloading https://files.pythonhosted.org/packages/ea/63/e086f165125e9bf2e71c0db2955911baaaa0af8947ab5c7b3771bdf4d4d5/pyngrok-5.0.0.tar.gz\n",
            "Requirement already satisfied: PyYAML in /usr/local/lib/python3.6/dist-packages (from pyngrok) (3.13)\n",
            "Building wheels for collected packages: pyngrok\n",
            "  Building wheel for pyngrok (setup.py) ... \u001b[?25l\u001b[?25hdone\n",
            "  Created wheel for pyngrok: filename=pyngrok-5.0.0-cp36-none-any.whl size=18781 sha256=f0c8d79dae7ea5bd96111063f72bf1ec90eed2ff46fe4ffc66d99cb8496d21fd\n",
            "  Stored in directory: /root/.cache/pip/wheels/95/df/23/af8dde08c3fcdc7b966adcacef48ab29aa3b0b1860df5d2b79\n",
            "Successfully built pyngrok\n",
            "Installing collected packages: pyngrok\n",
            "Successfully installed pyngrok-5.0.0\n"
          ],
          "name": "stdout"
        }
      ]
    },
    {
      "cell_type": "code",
      "metadata": {
        "id": "H9jh5LrL4K6l"
      },
      "source": [
        "import numpy as np\r\n",
        "import pandas as pd\r\n",
        "import pyspark\r\n",
        "import os\r\n",
        "import urllib\r\n",
        "import sys\r\n",
        "import mlflow\r\n",
        "from pyngrok import ngrok\r\n",
        "from pyspark.sql.functions import *\r\n",
        "from pyspark.ml.classification import *\r\n",
        "from pyspark.ml.evaluation import *\r\n",
        "from pyspark.ml.feature import *"
      ],
      "execution_count": null,
      "outputs": []
    },
    {
      "cell_type": "markdown",
      "metadata": {
        "id": "t_9rZR62EVSV"
      },
      "source": [
        "our feature columns are always after the **rating_binary** column"
      ]
    },
    {
      "cell_type": "code",
      "metadata": {
        "colab": {
          "base_uri": "https://localhost:8080/"
        },
        "id": "SPIhA2WYDxFs",
        "outputId": "4f708192-85f0-49ae-a1d4-15e7159c33f8"
      },
      "source": [
        "feature_cols = sqlc_truncated_ratings.columns[5:]\r\n",
        "print(feature_cols)"
      ],
      "execution_count": null,
      "outputs": [
        {
          "output_type": "stream",
          "text": [
            "['nb_previous_ratings', 'avg_previous_ratings']\n"
          ],
          "name": "stdout"
        }
      ]
    },
    {
      "cell_type": "code",
      "metadata": {
        "id": "x9PY-dXsFSPb"
      },
      "source": [
        "assembler = pyspark.ml.feature.VectorAssembler(inputCols=feature_cols, outputCol=\"features\")\r\n",
        "sqlc_truncated_ratings = assembler.transform(sqlc_truncated_ratings)"
      ],
      "execution_count": null,
      "outputs": []
    },
    {
      "cell_type": "markdown",
      "metadata": {
        "id": "9wfXOb8OT1zQ"
      },
      "source": [
        "We label the our vectors features and classes"
      ]
    },
    {
      "cell_type": "code",
      "metadata": {
        "id": "a6DGg2Z-ThEL"
      },
      "source": [
        "sqlc_truncated_ratings = sqlc_truncated_ratings.select([\"features\", \"rating_binary\"])\r\n",
        "label_indexer = pyspark.ml.feature.StringIndexer(inputCol=\"rating_binary\", outputCol=\"label\").fit(sqlc_truncated_ratings)\r\n",
        "sqlc_truncated_ratings = label_indexer.transform(sqlc_truncated_ratings)\r\n",
        "sqlc_truncated_ratings = sqlc_truncated_ratings.select([\"features\", \"label\"])"
      ],
      "execution_count": null,
      "outputs": []
    },
    {
      "cell_type": "code",
      "metadata": {
        "id": "DiEM5z7IT9Nk"
      },
      "source": [
        "train, test = sqlc_truncated_ratings.randomSplit([0.80, 0.20])\r\n",
        "reg = 0.01"
      ],
      "execution_count": null,
      "outputs": []
    },
    {
      "cell_type": "code",
      "metadata": {
        "id": "KDT0Z1HKUP_j"
      },
      "source": [
        "with mlflow.start_run(run_name=\"MLflow on Colab\"):\r\n",
        "   lr = pyspark.ml.classification.LogisticRegression(regParam=reg)\r\n",
        "   model = lr.fit(train)\r\n",
        "   prediction = model.transform(test)\r\n",
        "   evaluator =pyspark.ml.evaluation.BinaryClassificationEvaluator(metricName=\"areaUnderROC\")\r\n",
        "   aucroc = evaluator.evaluate(prediction)\r\n",
        "   mlflow.log_param(\"Regularization\", reg)\r\n",
        "   mlflow.log_metric(\"areaUnderROC\", aucroc)\r\n",
        "   #mlflow.log_metric(\"accuracy\", acc)\r\n",
        "   #mlflow.log_metric(\"recall\", recall)\r\n",
        "   mlflow.spark.log_model(model, \"spark-model\")"
      ],
      "execution_count": null,
      "outputs": []
    },
    {
      "cell_type": "code",
      "metadata": {
        "colab": {
          "base_uri": "https://localhost:8080/"
        },
        "id": "vmm_jb3FfcKd",
        "outputId": "5dad609e-9413-4ca7-eb38-9a6d82503411"
      },
      "source": [
        "get_ipython().system_raw(\"mlflow ui --port 5000 &\")\r\n",
        "ngrok.kill()\r\n",
        "NGROK_AUTH_TOKEN = \"1lzK2WgGsmil7u2C8yFD1e5Kb7a_57445NZHtq96VpTdaES1X\"\r\n",
        "ngrok.set_auth_token(NGROK_AUTH_TOKEN)\r\n",
        "ngrok_tunnel = ngrok.connect(addr=\"5000\", proto=\"http\", bind_tls=True)\r\n",
        "print(\"MLflow Tracking UI:\", ngrok_tunnel.public_url)"
      ],
      "execution_count": null,
      "outputs": [
        {
          "output_type": "stream",
          "text": [
            ""
          ],
          "name": "stdout"
        },
        {
          "output_type": "stream",
          "text": [
            "t=2020-12-22T04:43:03+0000 lvl=warn msg=\"can't bind default web address, trying alternatives\" obj=web addr=127.0.0.1:4040\n"
          ],
          "name": "stderr"
        },
        {
          "output_type": "stream",
          "text": [
            "MLflow Tracking UI: https://a9945401b87b.ngrok.io\n"
          ],
          "name": "stdout"
        }
      ]
    },
    {
      "cell_type": "code",
      "metadata": {
        "id": "xUN1dTqWhyRH"
      },
      "source": [
        ""
      ],
      "execution_count": null,
      "outputs": []
    }
  ]
}